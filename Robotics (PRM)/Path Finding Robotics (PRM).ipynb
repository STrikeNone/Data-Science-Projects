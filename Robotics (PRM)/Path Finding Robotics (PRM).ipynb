{
 "cells": [
  {
   "cell_type": "markdown",
   "id": "4188a4d3",
   "metadata": {},
   "source": [
    "### Loading the environment"
   ]
  },
  {
   "cell_type": "code",
   "execution_count": 131,
   "id": "75e43d7b",
   "metadata": {},
   "outputs": [
    {
     "data": {
      "image/png": "[encoded data removed]",
      "text/plain": [
       "<Figure size 432x288 with 1 Axes>"
      ]
     },
     "metadata": {
      "needs_background": "light"
     },
     "output_type": "display_data"
    }
   ],
   "source": [
    "import numpy as np\n",
    "import pylab as pl\n",
    "import sys\n",
    "sys.path.append('osr_examples/scripts/')\n",
    "import environment_2d\n",
    "pl.ion()\n",
    "np.random.seed(4)\n",
    "env = environment_2d.Environment(10, 6, 5)\n",
    "pl.clf()\n",
    "env.plot()\n",
    "q = env.random_query()\n",
    "if q is not None:\n",
    "  x_start, y_start, x_goal, y_goal = q\n",
    "  env.plot_query(x_start, y_start, x_goal, y_goal)\n",
    "    \n"
   ]
  },
  {
   "cell_type": "markdown",
   "id": "b1579da9",
   "metadata": {},
   "source": [
    "### Generating the Graph class"
   ]
  },
  {
   "cell_type": "code",
   "execution_count": 132,
   "id": "591279ed",
   "metadata": {},
   "outputs": [],
   "source": [
    "class Graph:\n",
    "    def __init__(self):\n",
    "        self.nodes = set()\n",
    "        self.edges = list()\n",
    "\n",
    "    def add_node(self, node):\n",
    "        self.nodes.add(node)\n",
    "\n",
    "    def add_edge(self, from_node, to_node, length):\n",
    "        self.edges.append((from_node, to_node, length))\n",
    "        \n",
    "    def checkPath(self, s, e):\n",
    "        generatePaths = {}\n",
    "        visited = {}\n",
    "        for xy1, xy2, d in self.edges:\n",
    "            if xy1 not in generatePaths:\n",
    "                generatePaths[xy1] = [xy2]\n",
    "                visited[xy1] = False\n",
    "            else:\n",
    "                generatePaths[xy1].append(xy2)\n",
    "                \n",
    "        if -1 not in generatePaths or -2 not in generatePaths:\n",
    "            return False\n",
    "        \n",
    "        queue = []\n",
    "        queue.append(s)\n",
    "        while queue:\n",
    "            n = queue.pop(0)\n",
    "            if n == e:\n",
    "                return True\n",
    "            \n",
    "            for i in generatePaths[n]:\n",
    "                if visited[i] == False:\n",
    "                    queue.append(i)\n",
    "                    visited[i] = True\n",
    "        return False\n",
    "    \n",
    "    def printPath(self, s, e, visited=None, generatePaths=None, path=[]):\n",
    "        if visited == None and generatePaths == None:\n",
    "            path = []\n",
    "            generatePaths = {}\n",
    "            visited = {}\n",
    "            for xy1, xy2, d in self.edges:\n",
    "                if xy1 not in generatePaths:\n",
    "                    generatePaths[xy1] = [xy2]\n",
    "                    visited[xy1] = False\n",
    "                else:\n",
    "                    generatePaths[xy1].append(xy2)\n",
    "    \n",
    "        visited[s] = True\n",
    "        path.append(s)\n",
    "        if s == e:\n",
    "            return\n",
    "        \n",
    "        for i in generatePaths[s]:\n",
    "            if visited[i] == False:\n",
    "                self.printPath(i, e, visited, generatePaths, path)\n",
    "                \n",
    "        return path"
   ]
  },
  {
   "cell_type": "markdown",
   "id": "406eed63",
   "metadata": {},
   "source": [
    "### PRM Algorithm"
   ]
  },
  {
   "cell_type": "code",
   "execution_count": 133,
   "id": "2d75e91d",
   "metadata": {},
   "outputs": [],
   "source": [
    "from sklearn.neighbors import NearestNeighbors\n",
    "\n",
    "class PRM:\n",
    "    def __init__(self, x, y, start, end):\n",
    "        self.x = x\n",
    "        self.y = y\n",
    "        self.start = start\n",
    "        self.end = end\n",
    "        self.sample_points = None\n",
    "        self.c_free = None\n",
    "        self.graph = Graph()\n",
    "        \n",
    "        \n",
    "    def genSamples(self, n):\n",
    "        self.sample_points = np.random.uniform((self.x, self.y), size=(n, 2))\n",
    "    \n",
    "    def checkForCollision(self):\n",
    "        self.c_free = np.array([])\n",
    "        for x, y in self.sample_points:\n",
    "            if not env.check_collision(x,y):\n",
    "                if self.c_free.size == 0:\n",
    "                    self.c_free = np.array((x, y))\n",
    "                else:\n",
    "                    self.c_free = np.vstack([self.c_free, (x, y)])\n",
    "    \n",
    "    def checkLineCollision(self, start_line, end_line):\n",
    "        x1, y1, x2, y2 = start_line[0], start_line[1], end_line[0], end_line[1]\n",
    "        if x2 - x1 == 0:\n",
    "            gradient = 0\n",
    "        else:\n",
    "            gradient = (y2-y1)/(x2-x1)\n",
    "        constant = y1 - gradient * x1\n",
    "        x_path = np.linspace(min(x1, x2), max(x1, x2), 100)\n",
    "        y_path = np.linspace(min(y1, y2), max(y1, y2), 100)\n",
    "        #y_path = x_path * gradient + constant\n",
    "        for x, y in zip(x_path, y_path):\n",
    "            if env.check_collision(x, y):\n",
    "                return True\n",
    "            \n",
    "        return False\n",
    "    \n",
    "    def determinePath(self, radius):\n",
    "        X = self.c_free\n",
    "        knn = NearestNeighbors(n_neighbors=len(X))\n",
    "        knn.fit(X)\n",
    "        distances, indices = knn.kneighbors(X)\n",
    "        for idx, point in enumerate(self.c_free):\n",
    "            neighbour_index = indices[idx][1:]\n",
    "            for neighbour, distance in zip(neighbour_index, distances[idx][1:]):\n",
    "                if 0 < distance <= radius:\n",
    "                    start_line = point\n",
    "                    end_line = X[neighbour]\n",
    "                    if not self.checkLineCollision(start_line, end_line):\n",
    "                        self.graph.add_node(idx)\n",
    "                        self.graph.add_node(neighbour)\n",
    "                        self.graph.add_edge(idx, neighbour, distance)\n",
    "        \n",
    "    def checkStartEnd(self):\n",
    "        x_start, y_start = self.start\n",
    "        x_end, y_end = self.end\n",
    "        cpy = self.graph.nodes.copy()\n",
    "        for idx in cpy:\n",
    "            coordinate = self.c_free[idx]\n",
    "            # -1 for start \n",
    "            if not self.checkLineCollision(self.start, coordinate):\n",
    "                self.graph.add_node(-1)\n",
    "                self.graph.add_edge(-1, idx, self.distanceOfTwoPoints(self.start, coordinate))\n",
    "            # -2 for end\n",
    "            if not self.checkLineCollision(self.end, coordinate):\n",
    "                self.graph.add_node(-2)\n",
    "                self.graph.add_edge(-2, idx, self.distanceOfTwoPoints(self.end, coordinate))\n",
    "                \n",
    "        # Check if start to end works\n",
    "        if not self.checkLineCollision(self.start, self.end):\n",
    "            self.graph.add_node(-1)\n",
    "            self.graph.add_node(-2)\n",
    "            self.graph.add_edge(-1, -2, self.distanceOfTwoPoints(self.start, self.end))\n",
    "        \n",
    "        return\n",
    "        \n",
    "    def distanceOfTwoPoints(self, first, end):\n",
    "        x, y = first\n",
    "        x2, y2 = end\n",
    "        return ((x-x2)**2 + (y-y2)**2)**0.5\n",
    "    \n",
    "    def runPRM(self, radius=2):\n",
    "        condition = 5 # Run the algorithm 5 times\n",
    "        while condition:\n",
    "            # Generate the sample points\n",
    "            self.genSamples(50)\n",
    "\n",
    "            # Remove any points that are colliding with the Environment\n",
    "            self.checkForCollision()\n",
    "\n",
    "            # Determine the straight path between sample points that work\n",
    "            self.determinePath(radius)\n",
    "\n",
    "            # Check if start and end points can join this connected component\n",
    "            self.checkStartEnd()\n",
    "        \n",
    "\n",
    "            if self.graph.checkPath(-1, -2):\n",
    "                return self.graph.printPath(-1, -2)\n",
    "            \n",
    "            self.graph = Graph()\n",
    "            condition-=1\n",
    "        \n",
    "        return False"
   ]
  },
  {
   "cell_type": "markdown",
   "id": "a0fdcd6a",
   "metadata": {},
   "source": [
    "<b> Testing the code </b>\n",
    "\n",
    "The dependency of this algorithm is on the random sample points generated initially. In some cases, the random points generated do not have a path actually"
   ]
  },
  {
   "cell_type": "code",
   "execution_count": 134,
   "id": "042c7b08",
   "metadata": {},
   "outputs": [
    {
     "name": "stdout",
     "output_type": "stream",
     "text": [
      "This set of iterations does not generate a sample path, re-run the code which will generate a new set of sample points that might contain a path\n"
     ]
    }
   ],
   "source": [
    "x_start, y_start, x_goal, y_goal = q\n",
    "prm_model = PRM(10, 6, (x_start, y_start), (x_goal, y_goal))\n",
    "path = prm_model.runPRM(2)\n",
    "if path != False:\n",
    "    print(\"The coordinates to take:\")\n",
    "    for i in path:\n",
    "        if i == -1:\n",
    "            print([x_start, y_start])\n",
    "        elif i == -2:\n",
    "            print([x_goal, y_goal])\n",
    "        else:\n",
    "            print(prm_model.c_free[i])\n",
    "        \n",
    "else:\n",
    "    print(\"This set of iterations does not generate a sample path, re-run the code which will generate a new set of sample points that might contain a path\")"
   ]
  },
  {
   "cell_type": "markdown",
   "id": "182c4002",
   "metadata": {},
   "source": [
    "<b> Visualizing the multiple connected components from our sample points </b>"
   ]
  },
  {
   "cell_type": "code",
   "execution_count": 135,
   "id": "351c9f72",
   "metadata": {
    "scrolled": true
   },
   "outputs": [
    {
     "data": {
      "image/png": "[encoded data removed]",
      "text/plain": [
       "<Figure size 432x288 with 1 Axes>"
      ]
     },
     "metadata": {
      "needs_background": "light"
     },
     "output_type": "display_data"
    }
   ],
   "source": [
    "env.plot_query(x_start, y_start, x_goal, y_goal)\n",
    "env.plot()\n",
    "for x, y, z in prm_model.graph.edges:\n",
    "    if x >= 0:\n",
    "        a = prm_model.c_free[x]\n",
    "    elif x == -1:\n",
    "        a = prm_model.start\n",
    "    else:\n",
    "        a = prm_model.end\n",
    "        \n",
    "    if y >= 0:\n",
    "        b = prm_model.c_free[y]\n",
    "    elif y == -1:\n",
    "        b = prm_model.start\n",
    "    else:\n",
    "        b = prm_model.end\n",
    "\n",
    "    pl.plot([a[0], b[0]], [a[1], b[1]])\n",
    "    "
   ]
  },
  {
   "cell_type": "markdown",
   "id": "90057cfc",
   "metadata": {},
   "source": [
    "<b>My conclusion on the environment</b> is there is no possible path as the second triangle obstructs any possible pathway"
   ]
  },
  {
   "cell_type": "markdown",
   "id": "f1d2dba3",
   "metadata": {},
   "source": [
    "<b>Note: </b> A further step forward would be to optimise the distance using Dijkstra's or A* algorithm. However, as I had only started the project 2 days before the deadline due to my ongoing exams, this is an approach that I will look into during my free time. Nonetheless, I thank the readers for taking time off to view my work. Have a nice day!"
   ]
  }
 ],
 "metadata": {
  "kernelspec": {
   "display_name": "Python 3",
   "language": "python",
   "name": "python3"
  },
  "language_info": {
   "codemirror_mode": {
    "name": "ipython",
    "version": 3
   },
   "file_extension": ".py",
   "mimetype": "text/x-python",
   "name": "python",
   "nbconvert_exporter": "python",
   "pygments_lexer": "ipython3",
   "version": "3.8.8"
  }
 },
 "nbformat": 4,
 "nbformat_minor": 5
}

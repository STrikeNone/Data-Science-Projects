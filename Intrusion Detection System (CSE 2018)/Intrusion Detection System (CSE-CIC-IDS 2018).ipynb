{
 "cells": [
  {
   "cell_type": "markdown",
   "id": "d31f2cc6",
   "metadata": {},
   "source": [
    "Reference article: https://scholarworks.rit.edu/cgi/viewcontent.cgi?article=11848&context=theses\n",
    "\n",
    "Kaggle data: https://www.kaggle.com/solarmainframe/ids-intrusion-csv"
   ]
  },
  {
   "cell_type": "code",
   "execution_count": 1,
   "id": "7ad9409d",
   "metadata": {},
   "outputs": [],
   "source": [
    "import pandas as pd\n",
    "import numpy as np"
   ]
  },
  {
   "cell_type": "code",
   "execution_count": 2,
   "id": "40b7419e",
   "metadata": {},
   "outputs": [],
   "source": [
    "train = pd.read_csv('ids2018_train.csv')\n",
    "test = pd.read_csv('ids2018_test.csv')"
   ]
  },
  {
   "cell_type": "markdown",
   "id": "0c93143b",
   "metadata": {},
   "source": [
    "Obtaining the X, y data"
   ]
  },
  {
   "cell_type": "code",
   "execution_count": 3,
   "id": "d5d2b329",
   "metadata": {},
   "outputs": [],
   "source": [
    "y = train[['Label']]\n",
    "y_val = test[['Label']]\n",
    "X = train.drop(columns=['Label'])\n",
    "X_val = test.drop(columns=['Label'])"
   ]
  },
  {
   "cell_type": "code",
   "execution_count": 13,
   "id": "593e889d",
   "metadata": {},
   "outputs": [],
   "source": [
    "from sklearn.preprocessing import LabelEncoder, OneHotEncoder\n",
    "ohc = OneHotEncoder()\n",
    "le = LabelEncoder()\n",
    "#y = le.fit_transform(y.values.ravel())\n",
    "#y_val = le.transform(y_val.values.ravel())\n",
    "\n",
    "y = ohc.fit_transform(y).toarray()\n",
    "y_val = ohc.transform(y_val).toarray()"
   ]
  },
  {
   "cell_type": "markdown",
   "id": "362111e3",
   "metadata": {},
   "source": [
    "Determining the features to use. We will be using sklearns `SelectFromModel`"
   ]
  },
  {
   "cell_type": "code",
   "execution_count": 14,
   "id": "43d616b3",
   "metadata": {},
   "outputs": [],
   "source": [
    "from sklearn.ensemble import RandomForestClassifier\n",
    "from sklearn.feature_selection import SelectFromModel\n",
    "from sklearn.model_selection import train_test_split"
   ]
  },
  {
   "cell_type": "code",
   "execution_count": 30,
   "id": "891cdd23",
   "metadata": {},
   "outputs": [],
   "source": [
    "X_train, X_test, y_train, y_test = train_test_split(X_train, y_train, test_size=0.3)"
   ]
  },
  {
   "cell_type": "code",
   "execution_count": 31,
   "id": "539c8504",
   "metadata": {},
   "outputs": [
    {
     "data": {
      "text/plain": [
       "SelectFromModel(estimator=RandomForestClassifier())"
      ]
     },
     "execution_count": 31,
     "metadata": {},
     "output_type": "execute_result"
    }
   ],
   "source": [
    "sel = SelectFromModel(RandomForestClassifier(n_estimators=100))\n",
    "sel.fit(X_train, y_train)"
   ]
  },
  {
   "cell_type": "code",
   "execution_count": 32,
   "id": "1dbc2318",
   "metadata": {},
   "outputs": [
    {
     "data": {
      "text/plain": [
       "array([ True,  True, False,  True, False, False, False, False, False,\n",
       "       False, False, False, False,  True, False,  True,  True, False,\n",
       "       False, False, False, False, False, False, False, False, False,\n",
       "       False, False, False, False,  True,  True,  True,  True, False,\n",
       "       False, False, False, False, False, False, False,  True,  True,\n",
       "       False, False, False, False, False, False, False, False, False,\n",
       "       False, False, False,  True,  True, False, False,  True,  True,\n",
       "        True, False, False, False, False, False, False, False, False])"
      ]
     },
     "execution_count": 32,
     "metadata": {},
     "output_type": "execute_result"
    }
   ],
   "source": [
    "sel.get_support()"
   ]
  },
  {
   "cell_type": "code",
   "execution_count": 34,
   "id": "886c6726",
   "metadata": {},
   "outputs": [
    {
     "name": "stdout",
     "output_type": "stream",
     "text": [
      "Index(['Flow Duration', 'Tot Fwd Pkts', 'TotLen Fwd Pkts', 'Flow IAT Mean',\n",
      "       'Flow IAT Max', 'Flow IAT Min', 'Fwd Header Len', 'Bwd Header Len',\n",
      "       'Fwd Pkts/s', 'Bwd Pkts/s', 'ACK Flag Cnt', 'URG Flag Cnt',\n",
      "       'Subflow Fwd Pkts', 'Subflow Fwd Byts', 'Init Bwd Win Byts',\n",
      "       'Fwd Act Data Pkts', 'Fwd Seg Size Min'],\n",
      "      dtype='object')\n"
     ]
    }
   ],
   "source": [
    "selected_features = X_train.columns[(sel.get_support())]\n",
    "print(selected_features)"
   ]
  },
  {
   "cell_type": "markdown",
   "id": "321930e8",
   "metadata": {},
   "source": [
    "Let us choose the top 10 features"
   ]
  },
  {
   "cell_type": "code",
   "execution_count": 61,
   "id": "122023e3",
   "metadata": {},
   "outputs": [],
   "source": [
    "importance = list(zip(X_train.columns, sel.estimator_.feature_importances_))\n",
    "importance.sort(key=lambda x: x[1], reverse=rse=True)"
   ]
  },
  {
   "cell_type": "code",
   "execution_count": 65,
   "id": "ba12af43",
   "metadata": {},
   "outputs": [],
   "source": [
    "top_features = [i[0] for i in importance[:10]]"
   ]
  },
  {
   "cell_type": "code",
   "execution_count": 16,
   "id": "87f18e75",
   "metadata": {},
   "outputs": [],
   "source": [
    "X_top = X[top_features]\n",
    "X_val_top = X_val[top_features]"
   ]
  },
  {
   "cell_type": "markdown",
   "id": "eed8a644",
   "metadata": {},
   "source": [
    "<b>Selecting the model</b>"
   ]
  },
  {
   "cell_type": "code",
   "execution_count": 39,
   "id": "1823e2eb",
   "metadata": {},
   "outputs": [],
   "source": [
    "''' Normalizing the values '''\n",
    "from sklearn.preprocessing import StandardScaler\n",
    "scaler = StandardScaler()\n",
    "X_top = pd.DataFrame(scaler.fit_transform(X_top))\n",
    "X_val_top = pd.DataFrame(scaler.transform(X_val_top))"
   ]
  },
  {
   "cell_type": "code",
   "execution_count": 42,
   "id": "829e3b53",
   "metadata": {},
   "outputs": [],
   "source": [
    "X_train_top, X_test_top, y_train, y_test = train_test_split(X_top, y, test_size=0.3)"
   ]
  },
  {
   "cell_type": "code",
   "execution_count": 23,
   "id": "ff6721a9",
   "metadata": {},
   "outputs": [],
   "source": [
    "import tensorflow as tf\n",
    "from tensorflow import keras\n",
    "from keras.models import Sequential\n",
    "from keras.layers import Dense, Activation, Dropout, BatchNormalization"
   ]
  },
  {
   "cell_type": "code",
   "execution_count": 44,
   "id": "f356c31e",
   "metadata": {},
   "outputs": [
    {
     "name": "stdout",
     "output_type": "stream",
     "text": [
      "Model: \"sequential_2\"\n",
      "_________________________________________________________________\n",
      " Layer (type)                Output Shape              Param #   \n",
      "=================================================================\n",
      " dense_10 (Dense)            (None, 512)               9216      \n",
      "                                                                 \n",
      " batch_normalization_4 (Batc  (None, 512)              2048      \n",
      " hNormalization)                                                 \n",
      "                                                                 \n",
      " dense_11 (Dense)            (None, 256)               131328    \n",
      "                                                                 \n",
      " batch_normalization_5 (Batc  (None, 256)              1024      \n",
      " hNormalization)                                                 \n",
      "                                                                 \n",
      " dense_12 (Dense)            (None, 128)               32896     \n",
      "                                                                 \n",
      " dense_13 (Dense)            (None, 64)                8256      \n",
      "                                                                 \n",
      " dense_14 (Dense)            (None, 3)                 195       \n",
      "                                                                 \n",
      "=================================================================\n",
      "Total params: 184,963\n",
      "Trainable params: 183,427\n",
      "Non-trainable params: 1,536\n",
      "_________________________________________________________________\n"
     ]
    }
   ],
   "source": [
    "model = Sequential()\n",
    "model.add(Dense(512, input_dim=17, activation='relu'))\n",
    "model.add(BatchNormalization())\n",
    "model.add(Dense(256, activation='relu'))\n",
    "model.add(BatchNormalization())\n",
    "model.add(Dense(128, activation='relu'))\n",
    "model.add(Dense(64, activation='relu'))\n",
    "model.add(Dense(3, activation='softmax'))\n",
    "model.compile(loss='binary_crossentropy', optimizer='adam', metrics=['accuracy'])\n",
    "model.summary()"
   ]
  },
  {
   "cell_type": "code",
   "execution_count": 45,
   "id": "08799262",
   "metadata": {},
   "outputs": [
    {
     "name": "stdout",
     "output_type": "stream",
     "text": [
      "Epoch 1/5\n",
      "10251/10251 [==============================] - 75s 7ms/step - loss: 0.0013 - accuracy: 0.9996 - val_loss: 5.9464e-04 - val_accuracy: 0.9999\n",
      "Epoch 2/5\n",
      "10251/10251 [==============================] - 73s 7ms/step - loss: 6.5143e-04 - accuracy: 0.9998 - val_loss: 0.1440 - val_accuracy: 0.9105\n",
      "Epoch 3/5\n",
      "10251/10251 [==============================] - 73s 7ms/step - loss: 4.4795e-04 - accuracy: 0.9999 - val_loss: 5.7822e-04 - val_accuracy: 0.9999\n",
      "Epoch 4/5\n",
      "10251/10251 [==============================] - 72s 7ms/step - loss: 4.6122e-04 - accuracy: 0.9999 - val_loss: 0.0012 - val_accuracy: 0.9999\n",
      "Epoch 5/5\n",
      "10251/10251 [==============================] - 73s 7ms/step - loss: 4.0445e-04 - accuracy: 0.9999 - val_loss: 3.0750e-04 - val_accuracy: 0.9999\n"
     ]
    },
    {
     "data": {
      "text/plain": [
       "<keras.callbacks.History at 0x152e110cc10>"
      ]
     },
     "execution_count": 45,
     "metadata": {},
     "output_type": "execute_result"
    }
   ],
   "source": [
    "model.fit(X_train_top, y_train, batch_size=512, epochs=5, validation_data=(X_test_top, y_test) )"
   ]
  },
  {
   "cell_type": "code",
   "execution_count": 46,
   "id": "b89b8c3e",
   "metadata": {},
   "outputs": [
    {
     "name": "stdout",
     "output_type": "stream",
     "text": [
      "7885/7885 [==============================] - 22s 3ms/step - loss: 3.1956e-04 - accuracy: 0.9999\n"
     ]
    },
    {
     "data": {
      "text/plain": [
       "[0.00031956416205503047, 0.9999336004257202]"
      ]
     },
     "execution_count": 46,
     "metadata": {},
     "output_type": "execute_result"
    }
   ],
   "source": [
    "model.evaluate(X_val_top, y_val, batch_size=512)"
   ]
  },
  {
   "cell_type": "code",
   "execution_count": null,
   "id": "9f5fa3da",
   "metadata": {},
   "outputs": [],
   "source": []
  }
 ],
 "metadata": {
  "kernelspec": {
   "display_name": "Python 3 (ipykernel)",
   "language": "python",
   "name": "python3"
  },
  "language_info": {
   "codemirror_mode": {
    "name": "ipython",
    "version": 3
   },
   "file_extension": ".py",
   "mimetype": "text/x-python",
   "name": "python",
   "nbconvert_exporter": "python",
   "pygments_lexer": "ipython3",
   "version": "3.9.7"
  }
 },
 "nbformat": 4,
 "nbformat_minor": 5
}

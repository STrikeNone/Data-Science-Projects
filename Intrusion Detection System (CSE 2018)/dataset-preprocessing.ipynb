{
 "cells": [
  {
   "cell_type": "code",
   "execution_count": 1,
   "id": "b2eba8d7",
   "metadata": {},
   "outputs": [],
   "source": [
    "import pandas as pd\n",
    "import os, glob"
   ]
  },
  {
   "cell_type": "markdown",
   "id": "877f9d96",
   "metadata": {},
   "source": [
    "<b> Deriving the Train, Test datasets </b>"
   ]
  },
  {
   "cell_type": "code",
   "execution_count": 2,
   "id": "958176bd",
   "metadata": {},
   "outputs": [],
   "source": [
    "files = [i for i in os.listdir(\"./\") if i.endswith(\".csv\")]"
   ]
  },
  {
   "cell_type": "code",
   "execution_count": 3,
   "id": "87507c99",
   "metadata": {},
   "outputs": [],
   "source": [
    "lst = []\n",
    "for csv in files:\n",
    "    lst.append(pd.read_csv(files[0], index_col=None))\n",
    "\n",
    "df = pd.concat(lst, axis=0, ignore_index=True)"
   ]
  },
  {
   "cell_type": "code",
   "execution_count": 4,
   "id": "6969e8dc",
   "metadata": {},
   "outputs": [],
   "source": [
    "df = df.drop(columns=['Flow Byts/s'])"
   ]
  },
  {
   "cell_type": "code",
   "execution_count": 6,
   "id": "48007977",
   "metadata": {},
   "outputs": [],
   "source": [
    "from sklearn.model_selection import train_test_split\n",
    "\n",
    "train, test = train_test_split(df, test_size=0.35)"
   ]
  },
  {
   "cell_type": "code",
   "execution_count": 8,
   "id": "416f5558",
   "metadata": {},
   "outputs": [],
   "source": [
    "train.to_csv('ids2018_train.csv', index=False)\n",
    "test.to_csv('ids2018_test.csv', index=False)"
   ]
  },
  {
   "cell_type": "markdown",
   "id": "87f06833",
   "metadata": {},
   "source": [
    "<b> Cleaning the dataset </b>"
   ]
  },
  {
   "cell_type": "code",
   "execution_count": 2,
   "id": "75b426cd",
   "metadata": {},
   "outputs": [],
   "source": [
    "train = pd.read_csv('ids2018_train.csv')"
   ]
  },
  {
   "cell_type": "code",
   "execution_count": 7,
   "id": "70567b93",
   "metadata": {},
   "outputs": [
    {
     "data": {
      "text/plain": [
       "Index(['Dst Port', 'Protocol', 'Timestamp', 'Flow Duration', 'Tot Fwd Pkts',\n",
       "       'Tot Bwd Pkts', 'TotLen Fwd Pkts', 'TotLen Bwd Pkts', 'Fwd Pkt Len Max',\n",
       "       'Fwd Pkt Len Min', 'Fwd Pkt Len Mean', 'Fwd Pkt Len Std',\n",
       "       'Bwd Pkt Len Max', 'Bwd Pkt Len Min', 'Bwd Pkt Len Mean',\n",
       "       'Bwd Pkt Len Std', 'Flow Pkts/s', 'Flow IAT Mean', 'Flow IAT Std',\n",
       "       'Flow IAT Max', 'Flow IAT Min', 'Fwd IAT Tot', 'Fwd IAT Mean',\n",
       "       'Fwd IAT Std', 'Fwd IAT Max', 'Fwd IAT Min', 'Bwd IAT Tot',\n",
       "       'Bwd IAT Mean', 'Bwd IAT Std', 'Bwd IAT Max', 'Bwd IAT Min',\n",
       "       'Fwd PSH Flags', 'Bwd PSH Flags', 'Fwd URG Flags', 'Bwd URG Flags',\n",
       "       'Fwd Header Len', 'Bwd Header Len', 'Fwd Pkts/s', 'Bwd Pkts/s',\n",
       "       'Pkt Len Min', 'Pkt Len Max', 'Pkt Len Mean', 'Pkt Len Std',\n",
       "       'Pkt Len Var', 'FIN Flag Cnt', 'SYN Flag Cnt', 'RST Flag Cnt',\n",
       "       'PSH Flag Cnt', 'ACK Flag Cnt', 'URG Flag Cnt', 'CWE Flag Count',\n",
       "       'ECE Flag Cnt', 'Down/Up Ratio', 'Pkt Size Avg', 'Fwd Seg Size Avg',\n",
       "       'Bwd Seg Size Avg', 'Fwd Byts/b Avg', 'Fwd Pkts/b Avg',\n",
       "       'Fwd Blk Rate Avg', 'Bwd Byts/b Avg', 'Bwd Pkts/b Avg',\n",
       "       'Bwd Blk Rate Avg', 'Subflow Fwd Pkts', 'Subflow Fwd Byts',\n",
       "       'Subflow Bwd Pkts', 'Subflow Bwd Byts', 'Init Fwd Win Byts',\n",
       "       'Init Bwd Win Byts', 'Fwd Act Data Pkts', 'Fwd Seg Size Min',\n",
       "       'Active Mean', 'Active Std', 'Active Max', 'Active Min', 'Idle Mean',\n",
       "       'Idle Std', 'Idle Max', 'Idle Min', 'Label'],\n",
       "      dtype='object')"
      ]
     },
     "execution_count": 7,
     "metadata": {},
     "output_type": "execute_result"
    }
   ],
   "source": [
    "train.columns"
   ]
  },
  {
   "cell_type": "code",
   "execution_count": 9,
   "id": "d6bb2287",
   "metadata": {},
   "outputs": [],
   "source": [
    "train = train.drop(columns=['Dst Port', \"Protocol\", \"PSH Flag Cnt\", \"Init Fwd Win Byts\", \"Flow Pkts/s\", \"Timestamp\"])\n"
   ]
  },
  {
   "cell_type": "code",
   "execution_count": 10,
   "id": "ea39255a",
   "metadata": {},
   "outputs": [],
   "source": [
    "train.to_csv('ids2018_train.csv', index=False)"
   ]
  },
  {
   "cell_type": "code",
   "execution_count": 11,
   "id": "cd956669",
   "metadata": {},
   "outputs": [],
   "source": [
    "test = pd.read_csv('ids2018_test.csv')\n",
    "test = test.drop(columns=['Dst Port', \"Protocol\", \"PSH Flag Cnt\", \"Init Fwd Win Byts\", \"Flow Pkts/s\", \"Timestamp\"])\n",
    "test.to_csv('ids2018_test.csv', index=False)"
   ]
  },
  {
   "cell_type": "code",
   "execution_count": null,
   "id": "7c3276eb",
   "metadata": {},
   "outputs": [],
   "source": []
  },
  {
   "cell_type": "code",
   "execution_count": null,
   "id": "14c8f08d",
   "metadata": {},
   "outputs": [],
   "source": []
  },
  {
   "cell_type": "code",
   "execution_count": null,
   "id": "11787e7a",
   "metadata": {},
   "outputs": [],
   "source": []
  },
  {
   "cell_type": "code",
   "execution_count": null,
   "id": "7f10f961",
   "metadata": {},
   "outputs": [],
   "source": []
  },
  {
   "cell_type": "code",
   "execution_count": null,
   "id": "14d5c909",
   "metadata": {},
   "outputs": [],
   "source": []
  }
 ],
 "metadata": {
  "kernelspec": {
   "display_name": "Python 3 (ipykernel)",
   "language": "python",
   "name": "python3"
  },
  "language_info": {
   "codemirror_mode": {
    "name": "ipython",
    "version": 3
   },
   "file_extension": ".py",
   "mimetype": "text/x-python",
   "name": "python",
   "nbconvert_exporter": "python",
   "pygments_lexer": "ipython3",
   "version": "3.9.7"
  }
 },
 "nbformat": 4,
 "nbformat_minor": 5
}
